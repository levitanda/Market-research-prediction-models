{
 "cells": [
  {
   "cell_type": "code",
   "execution_count": 207,
   "metadata": {},
   "outputs": [],
   "source": [
    "from tabulate import tabulate\n",
    "import copy\n",
    "years = [\"2023\", \"2024\", \"2025\", \"2026\", \"2027\", \"2028\"]\n",
    "headers = [\"region\", \"CAGR\", \"initial value\"]\n",
    "regions = [[\"North America\", 12, 2.12], [\"Europe\", 15.2, 1.13] , [\"Asia Pacific\", 9.2, 0.56], [\"Latin America\", 8.8, 0.07], [\"Middle East\", 12, 0.05], [\"Africa\", 10.5, 0.03]]\n",
    "global_init_value = 0\n",
    "for reg in regions:\n",
    "    if isinstance(reg[2], float):\n",
    "        global_init_value += reg[2]\n",
    "global_init_value = round(global_init_value,2)"
   ]
  },
  {
   "cell_type": "code",
   "execution_count": 208,
   "metadata": {},
   "outputs": [
    {
     "name": "stdout",
     "output_type": "stream",
     "text": [
      "                 2023     2024       2025       2026       2027       2028\n",
      "-------------  ------  -------  ---------  ---------  ---------  ---------\n",
      "North America    2.12  2.3744   2.65933    2.97845    3.33586    3.73616\n",
      "Europe           1.13  1.30176  1.49963    1.72757    1.99016    2.29267\n",
      "Asia Pacific     0.56  0.61152  0.66778    0.729216   0.796303   0.869563\n",
      "Latin America    0.07  0.07616  0.0828621  0.0901539  0.0980875  0.106719\n",
      "Middle East      0.05  0.056    0.06272    0.0702464  0.078676   0.0881171\n",
      "Africa           0.03  0.03315  0.0366307  0.040477   0.0447271  0.0494234\n",
      "Total            3.96  4.45299  5.00895    5.63611    6.34382    7.14265\n"
     ]
    }
   ],
   "source": [
    "prediction_per_region = []\n",
    "prediction_per_region = copy.deepcopy(regions)\n",
    "global_market_value = [\"Total\", global_init_value]\n",
    "for y in range(len(years)-1):\n",
    "    total_this_year = 0\n",
    "    for reg in prediction_per_region:\n",
    "        prediction_for_region = (1+reg[1]/100)*reg[len(reg)-1]\n",
    "        total_this_year += prediction_for_region\n",
    "        reg.append(prediction_for_region)\n",
    "    global_market_value.append(total_this_year)\n",
    "for sublist in prediction_per_region:\n",
    "    del sublist[1]\n",
    "prediction_per_region.insert(0,years)\n",
    "prediction_per_region.append(global_market_value)\n",
    "\n",
    "print(tabulate(prediction_per_region,headers=\"firstrow\"))\n"
   ]
  },
  {
   "cell_type": "code",
   "execution_count": 209,
   "metadata": {},
   "outputs": [
    {
     "name": "stdout",
     "output_type": "stream",
     "text": [
      "3.96 7.142653634065488 5\n",
      "12.5208180526718\n",
      "Total CAGR: 12.52 %\n"
     ]
    }
   ],
   "source": [
    "#computate total cagr\n",
    "beginning_value = global_market_value[1]  \n",
    "ending_value = global_market_value[-1]  \n",
    "\n",
    "# Compute the number of periods\n",
    "num_periods = len(years) -1\n",
    "print(beginning_value, ending_value, num_periods)\n",
    "# Compute the total CAGR\n",
    "total_cagr = ((ending_value / beginning_value) ** (1 / num_periods) - 1)*100\n",
    "print(total_cagr)\n",
    "print(\"Total CAGR:\", \"{:.2f}\".format(total_cagr), \"%\")"
   ]
  },
  {
   "cell_type": "code",
   "execution_count": 210,
   "metadata": {},
   "outputs": [
    {
     "name": "stdout",
     "output_type": "stream",
     "text": [
      "12.5208180526718\n",
      "[3.96, 4.46, 5.02, 5.65, 6.36, 7.16]\n"
     ]
    }
   ],
   "source": [
    "global_prediction = []\n",
    "global_prediction.append(global_init_value)\n",
    "next_value = global_init_value\n",
    "print(total_cagr)\n",
    "for i in range(len(years)-1):\n",
    "    next_value = round(next_value*(1+(total_cagr/100)),2)\n",
    "    global_prediction.append(next_value)\n",
    "print(global_prediction)"
   ]
  }
 ],
 "metadata": {
  "kernelspec": {
   "display_name": "Python 3",
   "language": "python",
   "name": "python3"
  },
  "language_info": {
   "codemirror_mode": {
    "name": "ipython",
    "version": 3
   },
   "file_extension": ".py",
   "mimetype": "text/x-python",
   "name": "python",
   "nbconvert_exporter": "python",
   "pygments_lexer": "ipython3",
   "version": "3.9.8"
  },
  "orig_nbformat": 4
 },
 "nbformat": 4,
 "nbformat_minor": 2
}
