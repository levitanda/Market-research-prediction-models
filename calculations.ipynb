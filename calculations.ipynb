{
 "cells": [
  {
   "cell_type": "code",
   "execution_count": 240,
   "metadata": {},
   "outputs": [],
   "source": [
    "#initialize variables, CAGRs and sections\n",
    "from tabulate import tabulate\n",
    "import copy\n",
    "years = [\"2023\", \"2024\", \"2025\", \"2026\", \"2027\", \"2028\"]\n",
    "headers = [\"region\", \"CAGR\", \"initial value\"]\n",
    "regions = [[\"North America\", 12, 1.46], [\"Europe\", 15.2, 1.13] , [\"Asia Pacific\", 9.2, 0.56], [\"Latin America\", 8.8, 0.07], [\"Middle East\", 12, 0.05], [\"Africa\", 10.5, 0.03]]\n",
    "global_init_value = 0\n",
    "for reg in regions:\n",
    "    if isinstance(reg[2], float):\n",
    "        global_init_value += reg[2]\n",
    "global_init_value = round(global_init_value,2)\n",
    "applications = [[\"Vehicles\", 11.2, 0.9], [\"Electricity\", 15.3, 1.8], [\"Others\", 5.9, 0.6]]"
   ]
  },
  {
   "cell_type": "code",
   "execution_count": 243,
   "metadata": {},
   "outputs": [
    {
     "name": "stdout",
     "output_type": "stream",
     "text": [
      "                 2023     2024       2025       2026       2027       2028\n",
      "-------------  ------  -------  ---------  ---------  ---------  ---------\n",
      "North America    1.46  1.6352   1.83142    2.05119    2.29734    2.57302\n",
      "Europe           1.13  1.30176  1.49963    1.72757    1.99016    2.29267\n",
      "Asia Pacific     0.56  0.61152  0.66778    0.729216   0.796303   0.869563\n",
      "Latin America    0.07  0.07616  0.0828621  0.0901539  0.0980875  0.106719\n",
      "Middle East      0.05  0.056    0.06272    0.0702464  0.078676   0.0881171\n",
      "Africa           0.03  0.03315  0.0366307  0.040477   0.0447271  0.0494234\n",
      "Total            3.3   3.71379  4.18104    4.70886    5.30529    5.97951\n"
     ]
    }
   ],
   "source": [
    "#compute predictions by region\n",
    "prediction_per_region = []\n",
    "prediction_per_region = copy.deepcopy(regions)\n",
    "global_market_value = [\"Total\", global_init_value]\n",
    "for y in range(len(years)-1):\n",
    "    total_this_year = 0\n",
    "    for reg in prediction_per_region:\n",
    "        prediction_for_region = (1+reg[1]/100)*reg[len(reg)-1]\n",
    "        total_this_year += prediction_for_region\n",
    "        reg.append(prediction_for_region)\n",
    "    global_market_value.append(total_this_year)\n",
    "for sublist in prediction_per_region:\n",
    "    del sublist[1]\n",
    "prediction_per_region.insert(0,years)\n",
    "prediction_per_region.append(global_market_value)\n",
    "\n",
    "print(tabulate(prediction_per_region,headers=\"firstrow\"))\n"
   ]
  },
  {
   "cell_type": "code",
   "execution_count": 217,
   "metadata": {},
   "outputs": [
    {
     "name": "stdout",
     "output_type": "stream",
     "text": [
      "3.3 5.9795081231534875 5\n",
      "12.623833047779343\n",
      "Total CAGR: 12.62 %\n"
     ]
    }
   ],
   "source": [
    "#compute total cagr\n",
    "beginning_value = global_market_value[1]  \n",
    "ending_value = global_market_value[-1]  \n",
    "\n",
    "# Compute the number of periods\n",
    "num_periods = len(years) -1\n",
    "print(beginning_value, ending_value, num_periods)\n",
    "# Compute the total CAGR\n",
    "total_cagr = ((ending_value / beginning_value) ** (1 / num_periods) - 1)*100\n",
    "print(total_cagr)\n",
    "print(\"Total CAGR:\", \"{:.2f}\".format(total_cagr), \"%\")"
   ]
  },
  {
   "cell_type": "code",
   "execution_count": 244,
   "metadata": {},
   "outputs": [
    {
     "name": "stdout",
     "output_type": "stream",
     "text": [
      "12.623833047779343\n",
      "[3.3, 3.72, 4.19, 4.72, 5.32, 5.99]\n"
     ]
    }
   ],
   "source": [
    "#make global market predictions by years\n",
    "global_prediction = []\n",
    "global_prediction.append(global_init_value)\n",
    "next_value = global_init_value\n",
    "print(total_cagr)\n",
    "for i in range(len(years)-1):\n",
    "    next_value = round(next_value*(1+(total_cagr/100)),2)\n",
    "    global_prediction.append(next_value)\n",
    "print(global_prediction)"
   ]
  },
  {
   "cell_type": "code",
   "execution_count": null,
   "metadata": {},
   "outputs": [],
   "source": []
  }
 ],
 "metadata": {
  "kernelspec": {
   "display_name": "Python 3",
   "language": "python",
   "name": "python3"
  },
  "language_info": {
   "codemirror_mode": {
    "name": "ipython",
    "version": 3
   },
   "file_extension": ".py",
   "mimetype": "text/x-python",
   "name": "python",
   "nbconvert_exporter": "python",
   "pygments_lexer": "ipython3",
   "version": "3.9.8"
  },
  "orig_nbformat": 4
 },
 "nbformat": 4,
 "nbformat_minor": 2
}
